{
  "nbformat": 4,
  "nbformat_minor": 0,
  "metadata": {
    "colab": {
      "private_outputs": true,
      "provenance": []
    },
    "kernelspec": {
      "name": "python3",
      "display_name": "Python 3"
    },
    "language_info": {
      "name": "python"
    }
  },
  "cells": [
    {
      "cell_type": "markdown",
      "source": [
        "# import"
      ],
      "metadata": {
        "id": "nUxzYzbITe-R"
      }
    },
    {
      "cell_type": "code",
      "source": [
        "!sudo apt-get install -y fonts-nanum\n",
        "!sudo fc-cache -fv\n",
        "!rm ~/.cache/matplotlib -rf"
      ],
      "metadata": {
        "id": "kEYU-32pCcPC"
      },
      "execution_count": null,
      "outputs": []
    },
    {
      "cell_type": "code",
      "execution_count": null,
      "metadata": {
        "id": "VmZM7uC8Nh-B"
      },
      "outputs": [],
      "source": [
        "# 구글드라이브\n",
        "from google.colab import drive\n",
        "\n",
        "# 데이터 프레임 및 연속형 자료 연산 라이브러리\n",
        "import pandas as pd\n",
        "import numpy as np\n",
        "\n",
        "#시각화 라이븐러리\n",
        "import seaborn as sns\n",
        "import matplotlib as mpl\n",
        "import matplotlib.pyplot as plt"
      ]
    },
    {
      "cell_type": "code",
      "source": [
        "# # 그래프에 한글 폰트 설정\n",
        "# plt.rcParams['font.family']='Nanum Gothic'\n",
        "\n",
        "# # 그래프에 마이너스 기호 깨지는 문제 해결\n",
        "# plt.rcParams['axes.unicode_minus']=False"
      ],
      "metadata": {
        "id": "awUbAqhA5Rgy"
      },
      "execution_count": null,
      "outputs": []
    },
    {
      "cell_type": "code",
      "source": [
        "import matplotlib.pyplot as plt\n",
        "plt.rc('font', family='NanumGothic') "
      ],
      "metadata": {
        "id": "TpBno70CDN9w"
      },
      "execution_count": null,
      "outputs": []
    },
    {
      "cell_type": "markdown",
      "source": [
        "# 데이터 불러오기"
      ],
      "metadata": {
        "id": "HS6nREoBTp0L"
      }
    },
    {
      "cell_type": "code",
      "source": [
        "#구글드라이브 읽어오기\n",
        "drive.mount('/content/drive')"
      ],
      "metadata": {
        "id": "qzUrFe0wTsQh"
      },
      "execution_count": null,
      "outputs": []
    },
    {
      "cell_type": "markdown",
      "source": [
        "## 인구데이터"
      ],
      "metadata": {
        "id": "xRGf0-p2XZxH"
      }
    },
    {
      "cell_type": "code",
      "source": [
        "#xlsx파일 읽기기\n",
        "people=pd.read_excel('/content/drive/MyDrive/4차/월별지역별인구수.xlsx')"
      ],
      "metadata": {
        "id": "jRYi711eVO8w"
      },
      "execution_count": null,
      "outputs": []
    },
    {
      "cell_type": "code",
      "source": [
        "people"
      ],
      "metadata": {
        "id": "sAcAM_kXV-HZ"
      },
      "execution_count": null,
      "outputs": []
    },
    {
      "cell_type": "markdown",
      "source": [
        "## POS"
      ],
      "metadata": {
        "id": "KIrn56vUXcCl"
      }
    },
    {
      "cell_type": "code",
      "source": [
        "pos=pd.read_csv('/content/drive/MyDrive/4차/20190509_mask_POS.csv')"
      ],
      "metadata": {
        "id": "kdfSjtM2Xdh-"
      },
      "execution_count": null,
      "outputs": []
    },
    {
      "cell_type": "code",
      "source": [
        "pos.columns"
      ],
      "metadata": {
        "id": "eq0p73ORXjJE"
      },
      "execution_count": null,
      "outputs": []
    },
    {
      "cell_type": "code",
      "source": [
        "pos"
      ],
      "metadata": {
        "id": "0DtcNFBlXpx8"
      },
      "execution_count": null,
      "outputs": []
    },
    {
      "cell_type": "code",
      "source": [
        "# 고객=유통사임을 확인\n",
        "pos2=pos[pos['CUSTOMER NAME'] == pos['유통사']]\n",
        "pos2"
      ],
      "metadata": {
        "id": "N5QnifYie5_C"
      },
      "execution_count": null,
      "outputs": []
    },
    {
      "cell_type": "code",
      "source": [
        "pos.isnull().sum()"
      ],
      "metadata": {
        "id": "TUwbbRQIgQQH"
      },
      "execution_count": null,
      "outputs": []
    },
    {
      "cell_type": "markdown",
      "source": [
        "## 유통사별 판매량, 판매액 확인"
      ],
      "metadata": {
        "id": "22V0Niab3FZF"
      }
    },
    {
      "cell_type": "markdown",
      "source": [
        "### Sales(Bag),가격 사용"
      ],
      "metadata": {
        "id": "fvTtt4g63OAG"
      }
    },
    {
      "cell_type": "code",
      "source": [
        "pos3=pos[['CUSTOMER NAME','Sales (Bag)', '가격']]\n",
        "pos3"
      ],
      "metadata": {
        "id": "hIDXhYxAdvLg"
      },
      "execution_count": null,
      "outputs": []
    },
    {
      "cell_type": "code",
      "source": [
        "group=pos3.groupby('CUSTOMER NAME', as_index=False)[['Sales (Bag)', '가격']].sum().sort_values(by=['가격'], ascending=False)\n",
        "group"
      ],
      "metadata": {
        "id": "KFpagsaN1B01"
      },
      "execution_count": null,
      "outputs": []
    },
    {
      "cell_type": "code",
      "source": [
        "data=pos3.groupby('CUSTOMER NAME', as_index=False)[['Sales (Bag)', '가격']].sum().sort_values(by=['Sales (Bag)'], ascending=False)\n",
        "data"
      ],
      "metadata": {
        "id": "lm4zIZmliOlT"
      },
      "execution_count": null,
      "outputs": []
    },
    {
      "cell_type": "code",
      "source": [
        "check=pos3[pos3['가격']==0]\n",
        "check"
      ],
      "metadata": {
        "id": "NbFCQNY81-SE"
      },
      "execution_count": null,
      "outputs": []
    },
    {
      "cell_type": "markdown",
      "source": [
        "### 세로 바그래프를 사용하여 유통사별 표시"
      ],
      "metadata": {
        "id": "vaUinvHL_NV7"
      }
    },
    {
      "cell_type": "code",
      "source": [
        "plt.figure(figsize = (20, 5))\n",
        "p=sns.barplot(data=data, x='Sales (Bag)',y='CUSTOMER NAME')\n",
        "p.set_title('유통사별 판매량')"
      ],
      "metadata": {
        "id": "Uh7hBV7H3rE5"
      },
      "execution_count": null,
      "outputs": []
    },
    {
      "cell_type": "code",
      "source": [
        "plt.figure(figsize = (20, 5))\n",
        "p2=sns.barplot(data=group, x='가격',y='CUSTOMER NAME')\n",
        "p2.set_title('유통사별 판매액')"
      ],
      "metadata": {
        "id": "_zs_bvkCBQfv"
      },
      "execution_count": null,
      "outputs": []
    },
    {
      "cell_type": "markdown",
      "source": [
        "# 전처리 df데이터"
      ],
      "metadata": {
        "id": "ehqo6zMn_hpl"
      }
    },
    {
      "cell_type": "code",
      "source": [
        "df=pd.read_csv('/content/drive/MyDrive/4차/df_dust_date_all.csv', encoding='cp949')"
      ],
      "metadata": {
        "id": "6a1mEdK9_kds"
      },
      "execution_count": null,
      "outputs": []
    },
    {
      "cell_type": "code",
      "source": [
        "df"
      ],
      "metadata": {
        "id": "Hr76yGBT_sbi"
      },
      "execution_count": null,
      "outputs": []
    },
    {
      "cell_type": "code",
      "source": [
        "group2=df.groupby('측정일시', as_index=False)[['SO2', 'CO', 'NO2', 'PM10', 'PM25']]"
      ],
      "metadata": {
        "id": "SRNSURhXfUUP"
      },
      "execution_count": null,
      "outputs": []
    },
    {
      "cell_type": "code",
      "source": [
        "df.describe()"
      ],
      "metadata": {
        "id": "vcYSF2CpiEEa"
      },
      "execution_count": null,
      "outputs": []
    },
    {
      "cell_type": "code",
      "source": [
        "group2.describe()"
      ],
      "metadata": {
        "id": "hLJ1Q4LGFFaP"
      },
      "execution_count": null,
      "outputs": []
    },
    {
      "cell_type": "code",
      "source": [
        "sns.scatterplot(data=df, x='SO2', y='PM10')"
      ],
      "metadata": {
        "id": "Q6H2sPSRkZrZ"
      },
      "execution_count": null,
      "outputs": []
    },
    {
      "cell_type": "code",
      "source": [],
      "metadata": {
        "id": "drEHtIBcASav"
      },
      "execution_count": null,
      "outputs": []
    }
  ]
}